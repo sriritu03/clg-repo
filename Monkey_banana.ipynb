{
 "cells": [
  {
   "cell_type": "markdown",
   "id": "3d705469-2d86-406c-bd81-1c767c8f3784",
   "metadata": {},
   "source": [
    "At(monkey, A)\n",
    "At(box, B)\n",
    "At(bananas, C)\n",
    "Height(monkey, Low)\n",
    "Height(box, Low)\n",
    "Height(bananas, High)\n",
    "¬On(monkey, box)\n",
    "¬Holding(monkey, bananas)\n"
   ]
  },
  {
   "cell_type": "code",
   "execution_count": null,
   "id": "a22b04e8-1888-4e2b-bd4d-cfdce03cce1f",
   "metadata": {},
   "outputs": [],
   "source": [
    "1. Go(x, y)\n",
    "Precondition: At(monkey, x)\n",
    "Effect: ¬At(monkey, x), At(monkey, y)\n",
    "2. Push(x, y)\n",
    "Precondition: At(monkey, x) ∧ At(box, x) ∧ Height(monkey, Low)\n",
    "Effect: ¬At(monkey, x), At(monkey, y), ¬At(box, x), At(box, y)\n",
    "3. ClimbUp\n",
    "Precondition: At(monkey, x) ∧ At(box, x) ∧ Height(monkey, Low)\n",
    "Effect: Height(monkey, High), On(monkey, box)\n",
    "4. ClimbDown\n",
    "Precondition: On(monkey, box)\n",
    "Effect: Height(monkey, Low), ¬On(monkey, box)\n",
    "5. Grasp\n",
    "Precondition: At(monkey, x) ∧ At(bananas, x) ∧ Height(monkey, High) ∧ Height(bananas, High)\n",
    "Effect: Holding(monkey, bananas)\n",
    "6. Ungrasp\n",
    "Precondition: Holding(monkey, bananas)\n",
    "Effect: ¬Holding(monkey, bananas)\n"
   ]
  },
  {
   "cell_type": "code",
   "execution_count": 1,
   "id": "f796d8fc-1a34-4ec6-b7e1-9031a114852a",
   "metadata": {},
   "outputs": [
    {
     "name": "stdout",
     "output_type": "stream",
     "text": [
      "Monkey goes from A to B\n",
      "Monkey pushes box from B to C\n",
      "Monkey climbs up the box.\n",
      "Monkey grasps the bananas.\n",
      "Goal achieved: Monkey has the bananas!\n"
     ]
    }
   ],
   "source": [
    "class MonkeyBananaProblem:\n",
    "    def __init__(self):\n",
    "        # Initial state\n",
    "        self.monkey_pos = 'A'\n",
    "        self.box_pos = 'B'\n",
    "        self.monkey_height = 'Low'\n",
    "        self.has_banana = False\n",
    "\n",
    "    def is_goal(self):\n",
    "        return self.has_banana\n",
    "\n",
    "    def go(self, to):\n",
    "        print(f\"Monkey goes from {self.monkey_pos} to {to}\")\n",
    "        self.monkey_pos = to\n",
    "\n",
    "    def push(self, to):\n",
    "        if self.monkey_pos == self.box_pos:\n",
    "            print(f\"Monkey pushes box from {self.box_pos} to {to}\")\n",
    "            self.box_pos = to\n",
    "            self.monkey_pos = to\n",
    "        else:\n",
    "            print(\"Monkey is not at the same position as the box to push it.\")\n",
    "\n",
    "    def climb_up(self):\n",
    "        if self.monkey_pos == self.box_pos:\n",
    "            print(\"Monkey climbs up the box.\")\n",
    "            self.monkey_height = 'High'\n",
    "        else:\n",
    "            print(\"Monkey must be at the same position as the box to climb.\")\n",
    "\n",
    "    def climb_down(self):\n",
    "        if self.monkey_height == 'High':\n",
    "            print(\"Monkey climbs down from the box.\")\n",
    "            self.monkey_height = 'Low'\n",
    "\n",
    "    def grasp(self):\n",
    "        if self.monkey_pos == 'C' and self.monkey_height == 'High':\n",
    "            print(\"Monkey grasps the bananas.\")\n",
    "            self.has_banana = True\n",
    "        else:\n",
    "            print(\"Monkey can't grasp the bananas (wrong position or height).\")\n",
    "problem = MonkeyBananaProblem()\n",
    "problem.go('B')\n",
    "problem.push('C')\n",
    "problem.climb_up()\n",
    "problem.grasp()\n",
    "\n",
    "if problem.is_goal():\n",
    "    print(\"Goal achieved: Monkey has the bananas!\")\n"
   ]
  },
  {
   "cell_type": "code",
   "execution_count": null,
   "id": "2f8caa94-de2a-4096-80a5-cdf54c24c5e0",
   "metadata": {},
   "outputs": [],
   "source": []
  }
 ],
 "metadata": {
  "kernelspec": {
   "display_name": "Python 3 (ipykernel)",
   "language": "python",
   "name": "python3"
  },
  "language_info": {
   "codemirror_mode": {
    "name": "ipython",
    "version": 3
   },
   "file_extension": ".py",
   "mimetype": "text/x-python",
   "name": "python",
   "nbconvert_exporter": "python",
   "pygments_lexer": "ipython3",
   "version": "3.12.7"
  }
 },
 "nbformat": 4,
 "nbformat_minor": 5
}
