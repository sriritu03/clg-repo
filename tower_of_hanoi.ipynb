{
 "cells": [
  {
   "cell_type": "code",
   "execution_count": 2,
   "id": "23e4d163-d31e-47eb-899c-c5087aeb4515",
   "metadata": {},
   "outputs": [
    {
     "name": "stdout",
     "output_type": "stream",
     "text": [
      "Plan to solve Tower of Hanoi with 3 disks:\n",
      "Step 1: Move disk from A to C\n",
      "Step 2: Move disk from A to B\n",
      "Step 3: Move disk from C to B\n",
      "Step 4: Move disk from A to C\n",
      "Step 5: Move disk from B to A\n",
      "Step 6: Move disk from B to C\n",
      "Step 7: Move disk from A to C\n"
     ]
    }
   ],
   "source": [
    "def tower_of_hanoi(n, source, target, auxiliary, moves):\n",
    "    if n == 1:\n",
    "        moves.append((source, target))\n",
    "    else:\n",
    "        tower_of_hanoi(n - 1, source, auxiliary, target, moves)\n",
    "        moves.append((source, target))\n",
    "        tower_of_hanoi(n - 1, auxiliary, target, source, moves)\n",
    "\n",
    "# Example usage\n",
    "n = 3  # Number of disks\n",
    "moves = []\n",
    "tower_of_hanoi(n, 'A', 'C', 'B', moves)\n",
    "\n",
    "# Print the plan\n",
    "print(f\"Plan to solve Tower of Hanoi with {n} disks:\")\n",
    "for i, (src, dest) in enumerate(moves, 1):\n",
    "    print(f\"Step {i}: Move disk from {src} to {dest}\")\n"
   ]
  },
  {
   "cell_type": "code",
   "execution_count": null,
   "id": "3f25ffcb-1877-4750-b292-81099b96f8c0",
   "metadata": {},
   "outputs": [],
   "source": []
  }
 ],
 "metadata": {
  "kernelspec": {
   "display_name": "Python 3 (ipykernel)",
   "language": "python",
   "name": "python3"
  },
  "language_info": {
   "codemirror_mode": {
    "name": "ipython",
    "version": 3
   },
   "file_extension": ".py",
   "mimetype": "text/x-python",
   "name": "python",
   "nbconvert_exporter": "python",
   "pygments_lexer": "ipython3",
   "version": "3.12.7"
  }
 },
 "nbformat": 4,
 "nbformat_minor": 5
}
