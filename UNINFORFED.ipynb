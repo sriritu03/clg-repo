{
 "cells": [
  {
   "cell_type": "code",
   "execution_count": 8,
   "id": "e0cb376e-ba95-4912-aecb-5c636cd75712",
   "metadata": {},
   "outputs": [
    {
     "name": "stdout",
     "output_type": "stream",
     "text": [
      "Least cost from S to G: 9\n",
      "Path: S -> d -> c -> e -> f -> G\n"
     ]
    }
   ],
   "source": [
    "#UCS\n",
    "import heapq\n",
    "def ucs(graph,start,goal):\n",
    "    pq=[]\n",
    "    heapq.heappush(pq,(0,[start],start))\n",
    "    visited=set()\n",
    "    while pq:\n",
    "        current_cost,path,current_node=heapq.heappop(pq)\n",
    "        if current_node==goal:\n",
    "            return current_cost,path\n",
    "        if current_node in visited:\n",
    "            continue\n",
    "        visited.add(current_node)\n",
    "        for neighbour,weight in graph.get(current_node,[]):\n",
    "            if neighbour not in visited:\n",
    "                heapq.heappush(pq,(current_cost+weight,path+[neighbour],neighbour))\n",
    "    return \"not available\"\n",
    "graph = {\n",
    "    'S': [('b', 2), ('d', 1), ('p', 3)],\n",
    "    'b': [('d', 1)],\n",
    "    'd': [('a', 8), ('c', 2), ('e', 9)],\n",
    "    'p': [('q', 15)],\n",
    "    'c': [('e', 2)],\n",
    "    'e': [('f', 2), ('h', 8)],\n",
    "    'f': [('G', 2)],\n",
    "    'h': [],\n",
    "    'q': [],\n",
    "    'G': []\n",
    "}\n",
    "\n",
    "# Running UCS\n",
    "start = 'S'\n",
    "goal = 'G'\n",
    "result= ucs(graph, start, goal)\n",
    "if result == \"not available\":\n",
    "    print(\"No path found.\")\n",
    "else:\n",
    "    cost, path = result\n",
    "    print(f\"Least cost from {start} to {goal}: {cost}\")\n",
    "    print(\"Path:\", \" -> \".join(path))\n"
   ]
  },
  {
   "cell_type": "code",
   "execution_count": 10,
   "id": "00471618-0e5b-46b4-b94e-d56a3e14ebe4",
   "metadata": {},
   "outputs": [
    {
     "name": "stdout",
     "output_type": "stream",
     "text": [
      "Least cost from S to G: 14\n",
      "Path: S -> d -> e -> f -> G\n"
     ]
    }
   ],
   "source": [
    "#BFS with out costs\n",
    "from collections import deque\n",
    "def bfs(graph,start,goal):\n",
    "    q=deque([(0,[start],start)])\n",
    "    visited=set()\n",
    "    while q:\n",
    "        current_cost,path,current_node=q.popleft()\n",
    "        if current_node==goal:\n",
    "            return current_cost,path\n",
    "        if current_node in visited:\n",
    "            continue\n",
    "        visited.add(current_node)\n",
    "        for neighbour,weight in graph.get(current_node,[]):\n",
    "            if neighbour not in visited:\n",
    "                q.append((current_cost+weight,path+[neighbour],neighbour))\n",
    "    return \"not found\"\n",
    "graph = {\n",
    "    'S': [('b', 2), ('d', 1), ('p', 3)],\n",
    "    'b': [('d', 1)],\n",
    "    'd': [('a', 8), ('c', 2), ('e', 9)],\n",
    "    'p': [('q', 15)],\n",
    "    'c': [('e', 2)],\n",
    "    'e': [('f', 2), ('h', 8)],\n",
    "    'f': [('G', 2)],\n",
    "    'h': [],\n",
    "    'q': [],\n",
    "    'G': []\n",
    "}\n",
    "\n",
    "start = 'S'\n",
    "goal = 'G'\n",
    "result=bfs(graph,start,goal)\n",
    "if result == \"not available\":\n",
    "    print(\"No path found.\")\n",
    "else:\n",
    "    cost, path = result\n",
    "    print(f\"Least cost from {start} to {goal}: {cost}\")\n",
    "    print(\"Path:\", \" -> \".join(path))"
   ]
  },
  {
   "cell_type": "code",
   "execution_count": 15,
   "id": "392c0400-f058-467f-b04d-163de5c042b6",
   "metadata": {},
   "outputs": [
    {
     "name": "stdout",
     "output_type": "stream",
     "text": [
      "found cost of14\n"
     ]
    }
   ],
   "source": [
    "#BFS with costs\n",
    "from collections import deque\n",
    "def BFS(graph,start,goal):\n",
    "    queue=deque([(start,0)])\n",
    "    visited=set()\n",
    "    while queue:\n",
    "        current_node,current_cost=queue.popleft()\n",
    "        if current_node==goal:\n",
    "            return f\"found cost of{current_cost}\"\n",
    "        if current_node not in visited:\n",
    "            visited.add(current_node)\n",
    "            for neighbour,weight in graph.get(current_node,[]):\n",
    "                if neighbour not in visited:\n",
    "                    queue.append((neighbour,current_cost+weight));\n",
    "    return \"not found\"\n",
    "graph = {\n",
    "    'S': [('b', 2), ('d', 1), ('p', 3)],\n",
    "    'b': [('d', 1)],\n",
    "    'd': [('a', 8), ('c', 2), ('e', 9)],\n",
    "    'p': [('q', 15)],\n",
    "    'c': [('e', 2)],\n",
    "    'e': [('f', 2), ('h', 8)],\n",
    "    'f': [('G', 2)],\n",
    "    'h': [],\n",
    "    'q': [],\n",
    "    'G': []\n",
    "}\n",
    "\n",
    "start = 'S'\n",
    "goal = 'G'\n",
    "print(BFS(graph, start, goal))\n",
    "            \n",
    "         "
   ]
  },
  {
   "cell_type": "code",
   "execution_count": 15,
   "id": "83724a97-53df-420b-8eb8-ace9481da42d",
   "metadata": {},
   "outputs": [
    {
     "name": "stdout",
     "output_type": "stream",
     "text": [
      "Path to G found.\n"
     ]
    }
   ],
   "source": [
    "#DFS without costs\n",
    "def dfs(graph, start, goal):\n",
    "    stack = [start]  # Initialize the stack with the start node\n",
    "    visited = set()  # To track visited nodes\n",
    "\n",
    "    while stack:\n",
    "        current = stack.pop()  # Pop the top of the stack\n",
    "\n",
    "        # If the goal is reached, return success\n",
    "        if current == goal:\n",
    "            return f\"Path to {goal} found.\"\n",
    "\n",
    "        # Mark the current node as visited\n",
    "        if current not in visited:\n",
    "            visited.add(current)\n",
    "            # Add unvisited neighbors to the stack\n",
    "            stack.extend(neighbor for neighbor in graph.get(current, []) if neighbor not in visited)\n",
    "\n",
    "    return f\"Path to {goal} not found.\"\n",
    "graph = {\n",
    "    'S': ['b', 'd', 'p'],\n",
    "    'b': ['d'],\n",
    "    'd': ['a', 'c', 'e'],\n",
    "    'p': ['q'],\n",
    "    'c': ['e'],\n",
    "    'e': ['f', 'h'],\n",
    "    'f': ['G'],\n",
    "    'h': [],\n",
    "    'q': [],\n",
    "    'G': []\n",
    "}\n",
    "\n",
    "# Example usage\n",
    "start = 'S'\n",
    "goal = 'G'\n",
    "print(dfs(graph, start, goal))\n"
   ]
  },
  {
   "cell_type": "code",
   "execution_count": 18,
   "id": "8df83af3-20f1-485f-b50c-48d5f83ba6c2",
   "metadata": {},
   "outputs": [
    {
     "name": "stdout",
     "output_type": "stream",
     "text": [
      "goal found at cost of14\n",
      "path S->d->e->f->G\n"
     ]
    }
   ],
   "source": [
    "def DFS(graph,start,goal):\n",
    "    stack=[(0,[start],start)]\n",
    "    visited=set()\n",
    "    while stack:\n",
    "        current_cost,path,current_node=stack.pop()\n",
    "        if current_node==goal:\n",
    "            return current_cost,path\n",
    "        if current_node not in visited:\n",
    "            visited.add(current_node)\n",
    "            for neighbour,weight in graph.get(current_node,[]):\n",
    "                if neighbour not in visited:\n",
    "                    stack.append((current_cost+weight,path+[neighbour],neighbour))\n",
    "    return \"not found\"\n",
    "\n",
    "graph = {\n",
    "    'S': [('b', 2), ('d', 1), ('p', 3)],\n",
    "    'b': [('d', 1)],\n",
    "    'd': [('a', 8), ('c', 2), ('e', 9)],\n",
    "    'p': [('q', 15)],\n",
    "    'c': [('e', 2)],\n",
    "    'e': [('f', 2), ('h', 8)],\n",
    "    'f': [('G', 2)],\n",
    "    'h': [],\n",
    "    'q': [],\n",
    "    'G': []\n",
    "}\n",
    "start = 'S'\n",
    "goal = 'G'\n",
    "result=DFS(graph,start,goal)\n",
    "if result==\"not found\":\n",
    "    print(\"goal not found\")\n",
    "else:\n",
    "    cost,path=result\n",
    "    print(f\"goal found at cost of{cost}\")\n",
    "    print(\"path\",\"->\".join(path))"
   ]
  },
  {
   "cell_type": "code",
   "execution_count": 14,
   "id": "a8c17e53-7c97-4965-bb15-de99441900ca",
   "metadata": {},
   "outputs": [
    {
     "name": "stdout",
     "output_type": "stream",
     "text": [
      "found at 14\n"
     ]
    }
   ],
   "source": [
    "#DFS with costs\n",
    "def DFS(graph,start,goal):\n",
    "    stack=[(start,0)]\n",
    "    visited=set()\n",
    "    while stack:\n",
    "        current_node,current_cost=stack.pop()\n",
    "        if current_node == goal:\n",
    "            return f\"found at {current_cost}\"\n",
    "        if current_node not in visited:\n",
    "            visited.add(current_node)\n",
    "            for neighbour,weight in graph.get(current_node,[]):\n",
    "                if neighbour not in visited:\n",
    "                    stack.append((neighbour,current_cost+weight))\n",
    "    return \"not found\"\n",
    "\n",
    "graph = {\n",
    "    'S': [('b', 2), ('d', 1), ('p', 3)],\n",
    "    'b': [('d', 1)],\n",
    "    'd': [('a', 8), ('c', 2), ('e', 9)],\n",
    "    'p': [('q', 15)],\n",
    "    'c': [('e', 2)],\n",
    "    'e': [('f', 2), ('h', 8)],\n",
    "    'f': [('G', 2)],\n",
    "    'h': [],\n",
    "    'q': [],\n",
    "    'G': []\n",
    "}\n",
    "start = 'S'\n",
    "goal = 'G'\n",
    "print(DFS(graph, start, goal))\n"
   ]
  },
  {
   "cell_type": "code",
   "execution_count": null,
   "id": "2a81288d-50a4-4865-840d-a1890884f0eb",
   "metadata": {},
   "outputs": [],
   "source": []
  }
 ],
 "metadata": {
  "kernelspec": {
   "display_name": "Python 3 (ipykernel)",
   "language": "python",
   "name": "python3"
  },
  "language_info": {
   "codemirror_mode": {
    "name": "ipython",
    "version": 3
   },
   "file_extension": ".py",
   "mimetype": "text/x-python",
   "name": "python",
   "nbconvert_exporter": "python",
   "pygments_lexer": "ipython3",
   "version": "3.12.7"
  }
 },
 "nbformat": 4,
 "nbformat_minor": 5
}
