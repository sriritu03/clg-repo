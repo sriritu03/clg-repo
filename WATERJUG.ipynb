{
 "cells": [
  {
   "cell_type": "code",
   "execution_count": 47,
   "id": "2a81288d-50a4-4865-840d-a1890884f0eb",
   "metadata": {},
   "outputs": [
    {
     "name": "stdout",
     "output_type": "stream",
     "text": [
      "55\n",
      "BFS: [(0, 0), (0, 3), (3, 0), (3, 3), (4, 2)]\n"
     ]
    }
   ],
   "source": [
    "#water jug problem BFS\n",
    "def bfs_water_jug(a, b, d):\n",
    "    queue = [(0, 0, [])]  # (current state of Jug A, Jug B, action sequence)\n",
    "    visited = set()\n",
    "    traversalcost=0;\n",
    "    traversalcost=traversalcost+1;\n",
    "    while queue:\n",
    "        x, y, actions = queue.pop(0)  # Dequeue\n",
    "\n",
    "        # If we reach the goal, return the action sequence\n",
    "        if x == d or y == d:\n",
    "            print(traversalcost)\n",
    "            return actions + [(x, y)]\n",
    "\n",
    "        if (x, y) not in visited:\n",
    "            visited.add((x, y))\n",
    "            for nx, ny in next_states(x, y, a, b):\n",
    "                traversalcost=traversalcost+1;\n",
    "                queue.append((nx, ny, actions + [(x, y)]))  # Add new state to queue\n",
    "\n",
    "    return \"No solution found.\"\n",
    "def next_states(x, y, a, b):\n",
    "    return [\n",
    "        (a, y),               # Fill Jug A\n",
    "        (x, b),               # Fill Jug B\n",
    "        (0, y),               # Empty Jug A\n",
    "        (x, 0),               # Empty Jug B\n",
    "        (max(0, x - (b - y)), min(b, x + y)),  # Pour A -> B\n",
    "        (min(a, x + y), max(0, y - (a - x)))   # Pour B -> A\n",
    "    ]\n",
    "a, b, d = 4, 3, 2\n",
    "\n",
    "print(\"BFS:\", bfs_water_jug(a, b, d))   \n"
   ]
  },
  {
   "cell_type": "code",
   "execution_count": 23,
   "id": "8548adec-38a8-4322-8c88-bd06c7a3067c",
   "metadata": {},
   "outputs": [
    {
     "name": "stdout",
     "output_type": "stream",
     "text": [
      "path: (0,0) -> (4,0) -> (4,3) -> (3,3) -> (3,2)\n"
     ]
    }
   ],
   "source": [
    "#practice bfs\n",
    "from collections import deque\n",
    "def bfs_water_jug(a,b,d):\n",
    "    q=deque([(0,0,[(0,0)])])\n",
    "    visited=set()\n",
    "    while q:\n",
    "        curr_a,curr_b,path=q.popleft()\n",
    "        if curr_a==d or curr_b==d:\n",
    "            return path\n",
    "        if (curr_a,curr_b) not in visited:\n",
    "            visited.add((curr_a,curr_b))\n",
    "            for next_a,next_b in nextstates(curr_a,curr_b,a,b):\n",
    "                    q.append((next_a,next_b,path+[(next_a,next_b)]))\n",
    "    return \"not available\"\n",
    "def nextstates(curr_a,curr_b,a,b):\n",
    "    return [\n",
    "        (curr_a,0),\n",
    "        (0,curr_b),\n",
    "        (a,curr_b),\n",
    "        (curr_a,b),\n",
    "        (max(0,curr_a-(b-curr_b)),min(b,curr_a+curr_b)),\n",
    "        (min(b,curr_b+curr_a),max(0,curr_b-(a-curr_a)))\n",
    "    ]\n",
    "a,b,d=4,3,2\n",
    "result=bfs_water_jug(a,b,d)\n",
    "if result == \"not available\":\n",
    "    print(\"oops not working\")\n",
    "else:\n",
    "    # Print the path in a readable format\n",
    "    print(\"path:\", \" -> \".join([f\"({x},{y})\" for x, y in result]))"
   ]
  },
  {
   "cell_type": "code",
   "execution_count": 50,
   "id": "a1da56fb-0be8-4b21-a6e0-ab43790dbc8f",
   "metadata": {},
   "outputs": [
    {
     "name": "stdout",
     "output_type": "stream",
     "text": [
      "25\n",
      "[(0, 0), (0, 3), (3, 0), (3, 3), (4, 2)]\n"
     ]
    }
   ],
   "source": [
    "#water jug problem with DFS\n",
    "def DFS(a,b,d):\n",
    "    stack=[(0,0,[])]\n",
    "    visited=set()\n",
    "    traversalcost=0;\n",
    "    traversalcost=traversalcost+1;\n",
    "    while stack:\n",
    "        cur_a,cur_b,action_seq=stack.pop()\n",
    "        if cur_a==d or cur_b==d:\n",
    "            print(traversalcost)\n",
    "            return action_seq+[(cur_a,cur_b)]\n",
    "        if (cur_a,cur_b) not in visited:\n",
    "            visited.add((cur_a,cur_b))\n",
    "            for next_a,next_b in next_states(cur_a,cur_b,a,b):\n",
    "                traversalcost=traversalcost+1;\n",
    "                stack.append((next_a,next_b,action_seq+[(cur_a,cur_b)]))\n",
    "    return \"not found\"\n",
    "\n",
    "def next_states(x, y, a, b):\n",
    "    return [\n",
    "        (a, y),               # Fill Jug A\n",
    "        (x, b),               # Fill Jug B\n",
    "        (0, y),               # Empty Jug A\n",
    "        (x, 0),               # Empty Jug B\n",
    "        (max(0, x - (b - y)), min(b, x + y)),  # Pour A -> B\n",
    "        (min(a, x + y), max(0, y - (a - x)))   # Pour B -> A\n",
    "    ]\n",
    "a, b, d = 4, 3, 2\n",
    "\n",
    "print(DFS(a, b, d))   "
   ]
  },
  {
   "cell_type": "code",
   "execution_count": 49,
   "id": "0c6c2f75-5bcb-438d-8b39-087ce0992efd",
   "metadata": {},
   "outputs": [
    {
     "name": "stdout",
     "output_type": "stream",
     "text": [
      "55\n",
      "[(0, 0), (0, 3), (3, 0), (3, 3), (4, 2)]\n"
     ]
    }
   ],
   "source": [
    "import heapq\n",
    "\n",
    "def ucs_water_jug(a, b, d):\n",
    "    priority_queue = [(0, 0, 0, [])]  # (cost, current state of Jug A, Jug B, action sequence)\n",
    "    visited = set()\n",
    "    traversalcost=0;\n",
    "    traversalcost=traversalcost+1;\n",
    "    \n",
    "    while priority_queue:\n",
    "        cost, x, y, actions = heapq.heappop(priority_queue)  # Pop the state with the lowest cost\n",
    "\n",
    "        # If we reach the goal, return the action sequence\n",
    "        if x == d or y == d:\n",
    "            print(traversalcost)\n",
    "            return actions + [(x, y)]\n",
    "\n",
    "        if (x, y) not in visited:\n",
    "            visited.add((x, y))\n",
    "            for nx, ny in next_states(x, y, a, b):\n",
    "                traversalcost=traversalcost+1;\n",
    "                heapq.heappush(priority_queue, (cost + 1, nx, ny, actions + [(x, y)]))  # Add new state with cost\n",
    "\n",
    "    return \"No solution found.\"\n",
    "def next_states(x, y, a, b):\n",
    "    return [\n",
    "        (a, y),               # Fill Jug A\n",
    "        (x, b),               # Fill Jug B\n",
    "        (0, y),               # Empty Jug A\n",
    "        (x, 0),               # Empty Jug B\n",
    "        (max(0, x - (b - y)), min(b, x + y)),  # Pour A -> B\n",
    "        (min(a, x + y), max(0, y - (a - x)))   # Pour B -> A\n",
    "    ]\n",
    "a, b, d = 4, 3, 2\n",
    "\n",
    "print(ucs_water_jug(a, b, d))   "
   ]
  },
  {
   "cell_type": "code",
   "execution_count": null,
   "id": "e0c6de90-fb30-4260-91b6-43ceaaccbff9",
   "metadata": {},
   "outputs": [],
   "source": []
  },
  {
   "cell_type": "code",
   "execution_count": null,
   "id": "a83e7c87-9eee-4cf6-9349-fb8923b1ea03",
   "metadata": {},
   "outputs": [],
   "source": []
  }
 ],
 "metadata": {
  "kernelspec": {
   "display_name": "Python 3 (ipykernel)",
   "language": "python",
   "name": "python3"
  },
  "language_info": {
   "codemirror_mode": {
    "name": "ipython",
    "version": 3
   },
   "file_extension": ".py",
   "mimetype": "text/x-python",
   "name": "python",
   "nbconvert_exporter": "python",
   "pygments_lexer": "ipython3",
   "version": "3.12.7"
  }
 },
 "nbformat": 4,
 "nbformat_minor": 5
}
