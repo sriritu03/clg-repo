{
 "cells": [
  {
   "cell_type": "code",
   "execution_count": 7,
   "id": "88a863d2-3f09-4266-84d2-de8dc1a62ef6",
   "metadata": {},
   "outputs": [
    {
     "name": "stdout",
     "output_type": "stream",
     "text": [
      "Final route: [0, 2, 1, 3, 0], Cost: 51\n"
     ]
    }
   ],
   "source": [
    "def cost(route,distances):\n",
    "    return sum(distances[route[i]][route[i+1]] for i in range(len(route)-1))\n",
    "    # distances[0][1] + distances[1][3] + distances[3][0] = 20 + 11 + 15 = 46\n",
    "    # If the route is [0, 1, 3, 0] and distances is:\n",
    "def generateneighbors(route):\n",
    "    neighbors=[]\n",
    "    for i in range(1,len(route)-2):\n",
    "        for j in range(i+1,len(route)-1):\n",
    "            new_route = route[:i] + route[i:j + 1][::-1] + route[j + 1:]\n",
    "            neighbors.append(new_route)\n",
    "    return neighbors;\n",
    "def hill_climbing_tsp(distances):\n",
    "    n=len(distances)\n",
    "     # Start with an initial route\n",
    "    current_route = list(range(n)) + [0]\n",
    "    current_cost=cost(current_route,distances)\n",
    "    while True:\n",
    "        neighbors=generateneighbors(current_route)\n",
    "        best_route,best_cost=current_route,current_cost\n",
    "        for neighbor in neighbors:\n",
    "            new_cost=cost(neighbor,distances)\n",
    "            if new_cost<best_cost:\n",
    "                best_cost=new_cost\n",
    "                best_route=neighbor\n",
    "        if best_cost>=current_cost:\n",
    "            break\n",
    "        current_route, current_cost = best_route, best_cost\n",
    "    return current_route, current_cost\n",
    "        \n",
    "distances = [\n",
    "    [0, 20, 10, 15],\n",
    "    [20, 0, 15, 11],\n",
    "    [10, 15, 0, 17],\n",
    "    [15, 11, 17, 0]\n",
    "]\n",
    "\n",
    "# Solve TSP\n",
    "final_route, final_cost = hill_climbing_tsp(distances)\n",
    "print(f\"Final route: {final_route}, Cost: {final_cost}\")\n",
    "    "
   ]
  },
  {
   "cell_type": "code",
   "execution_count": 6,
   "id": "0cf61483-3aa7-4467-93db-57090578d5d5",
   "metadata": {},
   "outputs": [
    {
     "name": "stdout",
     "output_type": "stream",
     "text": [
      "Final route: [0, 2, 1, 3, 0], Cost: 51\n"
     ]
    }
   ],
   "source": [
    "def cost(route,distances):\n",
    "    return sum(distances[route[i]][route[i+1]] for i in range(len(route)-1))\n",
    "def generate_neighbours(route):\n",
    "    neighbours=[]\n",
    "    for i in range(1,len(route)-2):\n",
    "        for j in range(i+1,len(route)-1):\n",
    "            new_route=route[:i]+route[i:j+1][::-1]+route[j+1:]\n",
    "            neighbours.append(new_route)\n",
    "    return neighbours\n",
    "def hill_climbing_tsp(distances):\n",
    "    n=len(distances)\n",
    "    current_route=list(range(n))+[0]\n",
    "    current_cost=cost(current_route,distances)\n",
    "    while True:\n",
    "        neighbours=generate_neighbours(current_route)\n",
    "        best_route,best_cost=current_route,current_cost\n",
    "        for neighbour in neighbours:\n",
    "            new_cost=cost(neighbour,distances)\n",
    "            if new_cost<best_cost:\n",
    "                best_cost=new_cost\n",
    "                best_route=neighbour\n",
    "        if best_cost>=current_cost:\n",
    "            break\n",
    "        current_cost,current_route=best_cost,best_route\n",
    "    return current_route,current_cost\n",
    "distances = [\n",
    "    [0, 20, 10, 15],\n",
    "    [20, 0, 15, 11],\n",
    "    [10, 15, 0, 17],\n",
    "    [15, 11, 17, 0]\n",
    "]\n",
    "\n",
    "# Solve TSP\n",
    "final_route, final_cost = hill_climbing_tsp(distances)\n",
    "print(f\"Final route: {final_route}, Cost: {final_cost}\")"
   ]
  },
  {
   "cell_type": "code",
   "execution_count": null,
   "id": "c7a3bf18-cc0f-4189-b675-ac64d56b3c1e",
   "metadata": {},
   "outputs": [],
   "source": []
  }
 ],
 "metadata": {
  "kernelspec": {
   "display_name": "Python 3 (ipykernel)",
   "language": "python",
   "name": "python3"
  },
  "language_info": {
   "codemirror_mode": {
    "name": "ipython",
    "version": 3
   },
   "file_extension": ".py",
   "mimetype": "text/x-python",
   "name": "python",
   "nbconvert_exporter": "python",
   "pygments_lexer": "ipython3",
   "version": "3.12.7"
  }
 },
 "nbformat": 4,
 "nbformat_minor": 5
}
